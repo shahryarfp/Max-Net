{
 "cells": [
  {
   "cell_type": "markdown",
   "id": "746052f0",
   "metadata": {},
   "source": [
    "# Max-Net"
   ]
  },
  {
   "cell_type": "code",
   "execution_count": 1,
   "id": "dd0bde5b",
   "metadata": {},
   "outputs": [],
   "source": [
    "import numpy as np\n",
    "import copy"
   ]
  },
  {
   "cell_type": "markdown",
   "id": "9099d72f",
   "metadata": {},
   "source": [
    "### Needed Functions"
   ]
  },
  {
   "cell_type": "code",
   "execution_count": 2,
   "id": "bd482db6",
   "metadata": {},
   "outputs": [],
   "source": [
    "def relu(x):\n",
    "    if x >= 0:\n",
    "        return x\n",
    "    else:\n",
    "        return 0\n",
    "    \n",
    "def finished(v):\n",
    "    count = 0\n",
    "    for i in range(len(v)):\n",
    "        if v[i] == 0:\n",
    "            count += 1\n",
    "    if count >= len(v)-1:\n",
    "        return True\n",
    "    else:\n",
    "        return False"
   ]
  },
  {
   "cell_type": "markdown",
   "id": "1b4422a8",
   "metadata": {},
   "source": [
    "### Inputs"
   ]
  },
  {
   "cell_type": "code",
   "execution_count": 3,
   "id": "d22a83c6",
   "metadata": {},
   "outputs": [],
   "source": [
    "input_array = np.array([1.2, 1.1, 1, 0.9, 0.95, 1.15])\n",
    "epsilon = 0.15"
   ]
  },
  {
   "cell_type": "markdown",
   "id": "c8e1dd05",
   "metadata": {},
   "source": [
    "### Training Max-Net"
   ]
  },
  {
   "cell_type": "code",
   "execution_count": 4,
   "id": "1bb894ae",
   "metadata": {},
   "outputs": [
    {
     "name": "stdout",
     "output_type": "stream",
     "text": [
      "[1.2  1.1  1.   0.9  0.95 1.15]\n",
      "[0.435  0.32   0.205  0.09   0.1475 0.3775]\n",
      "[0.264    0.13175  0.       0.       0.       0.197875]\n",
      "[0.21455625 0.06246875 0.         0.         0.         0.1385125 ]\n",
      "[0.18440906 0.00950844 0.         0.         0.         0.09695875]\n",
      "[0.16843898 0.         0.         0.         0.         0.06787112]\n",
      "[0.15825832 0.         0.         0.         0.         0.04260528]\n",
      "[0.15186752 0.         0.         0.         0.         0.01886653]\n",
      "[0.14903754 0.         0.         0.         0.         0.        ]\n"
     ]
    }
   ],
   "source": [
    "w = np.eye(len(input_array))*(1+epsilon) - epsilon\n",
    "my_list = []\n",
    "answer = []\n",
    "temp_input = copy.deepcopy(input_array)\n",
    "\n",
    "while not finished(temp_input):\n",
    "    print(temp_input)\n",
    "    temp_input = np.matmul(w, temp_input.T)\n",
    "    for i in range(len(temp_input)):\n",
    "        temp_input[i] = relu(temp_input[i])\n",
    "        if temp_input[i] == 0 and i not in my_list:\n",
    "            my_list.append(i)            \n",
    "print(temp_input)\n",
    "\n",
    "for i in range(len(temp_input)):\n",
    "    if temp_input[i] != 0 :\n",
    "        my_list.append(i)\n",
    "\n",
    "my_list = my_list[::-1]\n",
    "answer = np.array(my_list)"
   ]
  },
  {
   "cell_type": "markdown",
   "id": "2ad7e568",
   "metadata": {},
   "source": [
    "### Max-Net output"
   ]
  },
  {
   "cell_type": "code",
   "execution_count": 5,
   "id": "c72a2c8e",
   "metadata": {},
   "outputs": [
    {
     "name": "stdout",
     "output_type": "stream",
     "text": [
      "Descending max index: [0 5 1 4 3 2]\n",
      "\n",
      "Sorted Descending:\n",
      "1.2\n",
      "1.15\n",
      "1.1\n",
      "0.95\n",
      "0.9\n",
      "1.0\n"
     ]
    }
   ],
   "source": [
    "print('Descending max index:', answer)\n",
    "print('\\nSorted Descending:')\n",
    "for i in range(len(input_array)):\n",
    "    print(input_array[answer[i]])"
   ]
  },
  {
   "cell_type": "code",
   "execution_count": 6,
   "id": "48b39b19",
   "metadata": {},
   "outputs": [
    {
     "name": "stdout",
     "output_type": "stream",
     "text": [
      "Ascending max index: [2 3 4 1 5 0]\n",
      "\n",
      "Sorted Ascending:\n",
      "1.0\n",
      "0.9\n",
      "0.95\n",
      "1.1\n",
      "1.15\n",
      "1.2\n"
     ]
    }
   ],
   "source": [
    "ascending_answer = answer[::-1]\n",
    "print('Ascending max index:', ascending_answer)\n",
    "print('\\nSorted Ascending:')\n",
    "for i in range(len(input_array)):\n",
    "    print(input_array[ascending_answer[i]])"
   ]
  },
  {
   "cell_type": "code",
   "execution_count": null,
   "id": "8876f89d",
   "metadata": {},
   "outputs": [],
   "source": []
  },
  {
   "cell_type": "code",
   "execution_count": null,
   "id": "893bf96c",
   "metadata": {},
   "outputs": [],
   "source": []
  }
 ],
 "metadata": {
  "kernelspec": {
   "display_name": "Python 3 (ipykernel)",
   "language": "python",
   "name": "python3"
  },
  "language_info": {
   "codemirror_mode": {
    "name": "ipython",
    "version": 3
   },
   "file_extension": ".py",
   "mimetype": "text/x-python",
   "name": "python",
   "nbconvert_exporter": "python",
   "pygments_lexer": "ipython3",
   "version": "3.9.7"
  }
 },
 "nbformat": 4,
 "nbformat_minor": 5
}
